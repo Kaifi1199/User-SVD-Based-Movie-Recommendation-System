{
 "cells": [
  {
   "cell_type": "code",
   "execution_count": 7,
   "id": "db8875a5",
   "metadata": {},
   "outputs": [],
   "source": [
    "import pandas as pd\n",
    "\n",
    "ratings_cols = ['user_id', 'movie_id', 'rating', 'timestamp']\n",
    "ratings = pd.read_csv('u.data', sep='\\t', names=ratings_cols)\n",
    "movies_cols = ['movie_id', 'title', 'release_date', 'video_release_date', 'IMDb_URL',\n",
    "               'unknown', 'Action', 'Adventure', 'Animation', 'Children\\'s', 'Comedy', 'Crime',\n",
    "               'Documentary', 'Drama', 'Fantasy', 'Film-Noir', 'Horror', 'Musical', 'Mystery',\n",
    "               'Romance', 'Sci-Fi', 'Thriller', 'War', 'Western']"
   ]
  },
  {
   "cell_type": "code",
   "execution_count": 8,
   "id": "923317d5",
   "metadata": {},
   "outputs": [],
   "source": [
    "movies = pd.read_csv('u.item', sep='|', names=movies_cols, encoding='latin-1', usecols=[0,1])"
   ]
  },
  {
   "cell_type": "code",
   "execution_count": 9,
   "id": "ee9d6ccc",
   "metadata": {},
   "outputs": [],
   "source": [
    "user_item_matrix = ratings.pivot_table(index='user_id', columns='movie_id', values='rating').fillna(0)"
   ]
  },
  {
   "cell_type": "code",
   "execution_count": 10,
   "id": "efaead28",
   "metadata": {},
   "outputs": [],
   "source": [
    "from sklearn.metrics.pairwise import cosine_similarity\n",
    "\n",
    "# User similarity\n",
    "user_similarity = cosine_similarity(user_item_matrix)\n",
    "user_similarity_df = pd.DataFrame(user_similarity, index=user_item_matrix.index, columns=user_item_matrix.index)"
   ]
  },
  {
   "cell_type": "code",
   "execution_count": 11,
   "id": "8d3435ef",
   "metadata": {},
   "outputs": [],
   "source": [
    "import numpy as np\n",
    "from scipy.sparse.linalg import svds\n",
    "\n",
    "# SVD predictions\n",
    "R = user_item_matrix.values\n",
    "user_ratings_mean = np.mean(R, axis=1)\n",
    "R_demeaned = R - user_ratings_mean.reshape(-1, 1)\n",
    "U, sigma, Vt = svds(R_demeaned, k=50)\n",
    "sigma = np.diag(sigma)\n",
    "predicted_ratings = np.dot(np.dot(U, sigma), Vt) + user_ratings_mean.reshape(-1, 1)"
   ]
  },
  {
   "cell_type": "code",
   "execution_count": 12,
   "id": "c60e47e4",
   "metadata": {},
   "outputs": [
    {
     "name": "stdout",
     "output_type": "stream",
     "text": [
      "✅ All data saved as pickle files.\n"
     ]
    }
   ],
   "source": [
    "import pickle\n",
    "\n",
    "# Save to pickle\n",
    "with open('user_item_matrix.pkl', 'wb') as f:\n",
    "    pickle.dump(user_item_matrix, f)\n",
    "\n",
    "with open('user_similarity.pkl', 'wb') as f:\n",
    "    pickle.dump(user_similarity_df, f)\n",
    "\n",
    "with open('predicted_svd.pkl', 'wb') as f:\n",
    "    pickle.dump(predicted_ratings, f)\n",
    "\n",
    "with open('movies.pkl', 'wb') as f:\n",
    "    pickle.dump(movies, f)\n",
    "\n",
    "print(\"✅ All data saved as pickle files.\")"
   ]
  }
 ],
 "metadata": {
  "kernelspec": {
   "display_name": "Python 3",
   "language": "python",
   "name": "python3"
  },
  "language_info": {
   "codemirror_mode": {
    "name": "ipython",
    "version": 3
   },
   "file_extension": ".py",
   "mimetype": "text/x-python",
   "name": "python",
   "nbconvert_exporter": "python",
   "pygments_lexer": "ipython3",
   "version": "3.10.8"
  }
 },
 "nbformat": 4,
 "nbformat_minor": 5
}
